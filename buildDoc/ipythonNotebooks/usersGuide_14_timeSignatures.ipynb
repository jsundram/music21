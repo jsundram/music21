{
 "metadata": {
  "name": "usersGuide_14_timeSignatures"
 },
 "nbformat": 3,
 "nbformat_minor": 0,
 "worksheets": [
  {
   "cells": [
    {
     "cell_type": "code",
     "collapsed": false,
     "input": [
      "%load_ext music21.ipython21.ipExtension"
     ],
     "language": "python",
     "metadata": {},
     "outputs": [],
     "prompt_number": 1
    },
    {
     "cell_type": "markdown",
     "metadata": {},
     "source": [
      "#User's Guide: Chapter 14: Time Signatures"
     ]
    },
    {
     "cell_type": "markdown",
     "metadata": {},
     "source": [
      "Up until now almost all the music we've been working with has been in 4/4.  That's not because we love common time so much, but simply because as we noted in Chapter 4 of the User's Guide (:ref:`usersGuide_04_Stream` -- how does this work?) it's because 4/4 is the default time signature for `music21` :class:`~music21.stream.Stream` objects that don't have another time signature applied to them.\n",
      "\n",
      "Everything that we need to use other time signatures is contained in the `meter` module, which is imported when you type ``from music21 import *`.  There are lots of things in that module, but the one that we care about most is the :class:`~music21.meter.TimeSignature` object.  Let's create a couple of notes and a `TimeSignature` object."
     ]
    },
    {
     "cell_type": "code",
     "collapsed": false,
     "input": [
      "from music21 import *\n",
      "\n",
      "noteC = note.Note(\"C4\", type=\"half\")\n",
      "noteD = note.Note(\"D4\", type=\"quarter\")\n",
      "noteE = note.Note(\"E4\", type=\"quarter\")\n",
      "noteF = note.Note(\"F4\", type=\"half\")\n",
      "\n",
      "tsThreeFour = meter.TimeSignature('3/4')"
     ],
     "language": "python",
     "metadata": {},
     "outputs": [],
     "prompt_number": 2
    },
    {
     "cell_type": "markdown",
     "metadata": {},
     "source": [
      "Now that we have our objects, let's create a `Stream` that uses these notes and the TimeSignature object.  We'll append each object in order using a `for` loop:"
     ]
    },
    {
     "cell_type": "code",
     "collapsed": false,
     "input": [
      "stream1 = stream.Stream()\n",
      "\n",
      "for thisThing in [tsThreeFour, noteC, noteD, noteE, noteF]:\n",
      "    stream1.append(thisThing)"
     ],
     "language": "python",
     "metadata": {},
     "outputs": [],
     "prompt_number": 3
    },
    {
     "cell_type": "markdown",
     "metadata": {},
     "source": [
      "Let's look at `stream1` using `.show('text')`:"
     ]
    },
    {
     "cell_type": "code",
     "collapsed": false,
     "input": [
      "stream1.show('text')"
     ],
     "language": "python",
     "metadata": {},
     "outputs": [
      {
       "output_type": "stream",
       "stream": "stdout",
       "text": [
        "{0.0} <music21.meter.TimeSignature 3/4>\n",
        "{0.0} <music21.note.Note C>\n",
        "{2.0} <music21.note.Note D>\n",
        "{3.0} <music21.note.Note E>\n",
        "{4.0} <music21.note.Note F>\n"
       ]
      }
     ],
     "prompt_number": 4
    },
    {
     "cell_type": "markdown",
     "metadata": {},
     "source": [
      "Notice that both the time signature and the first note begin at `offset` 0.0 in the Stream? That's because by default TimeSignature objects have no length:"
     ]
    },
    {
     "cell_type": "code",
     "collapsed": false,
     "input": [
      "tsThreeFour.duration.quarterLength"
     ],
     "language": "python",
     "metadata": {},
     "outputs": [
      {
       "output_type": "pyout",
       "prompt_number": 5,
       "text": [
        "0.0"
       ]
      }
     ],
     "prompt_number": 5
    },
    {
     "cell_type": "markdown",
     "metadata": {},
     "source": [
      "If we `show()` the `Stream` without using `show('text')`, we see that there are two measures of 3/4:"
     ]
    },
    {
     "cell_type": "code",
     "collapsed": false,
     "input": [
      "stream1.show()"
     ],
     "language": "python",
     "metadata": {},
     "outputs": [
      {
       "output_type": "pyout",
       "png": "[encoded data removed]",
       "prompt_number": 6,
       "text": [
        "<music21.ipython21.objects.IPythonPNGObject at 0x10a7fbd10>"
       ]
      }
     ],
     "prompt_number": 6
    },
    {
     "cell_type": "markdown",
     "metadata": {},
     "source": [
      "The `TimeSignature` object helps the display module known how to divide the Stream into `Measure` objects.  We can see this process directly if we create a new `Stream` from `stream1` that has measures using the `.makeMeasures()` command:"
     ]
    },
    {
     "cell_type": "code",
     "collapsed": false,
     "input": [
      "stream2 = stream1.makeMeasures()\n",
      "stream2.show('text')"
     ],
     "language": "python",
     "metadata": {},
     "outputs": [
      {
       "output_type": "stream",
       "stream": "stdout",
       "text": [
        "{0.0} <music21.stream.Measure 1 offset=0.0>\n",
        "    {0.0} <music21.clef.TrebleClef>\n",
        "    {0.0} <music21.meter.TimeSignature 3/4>\n",
        "    {0.0} <music21.note.Note C>\n",
        "    {2.0} <music21.note.Note D>\n",
        "{3.0} <music21.stream.Measure 2 offset=3.0>\n",
        "    {0.0} <music21.note.Note E>\n",
        "    {1.0} <music21.note.Note F>\n",
        "    {3.0} <music21.bar.Barline style=final>\n"
       ]
      }
     ],
     "prompt_number": 7
    },
    {
     "cell_type": "markdown",
     "metadata": {},
     "source": [
      "The makeMeasures command, by the way, also put a TrebleClef into the `Stream` and set the last barline to \"final\", which makes its output a little prettier in Lilypond (which is what the documentation uses; you are probably using MusicXML if you're following along, which gets it right...)"
     ]
    },
    {
     "cell_type": "code",
     "collapsed": false,
     "input": [
      "stream2.show()"
     ],
     "language": "python",
     "metadata": {},
     "outputs": [
      {
       "output_type": "pyout",
       "png": "[encoded data removed]",
       "prompt_number": 8,
       "text": [
        "<music21.ipython21.objects.IPythonPNGObject at 0x10a809290>"
       ]
      }
     ],
     "prompt_number": 8
    },
    {
     "cell_type": "markdown",
     "metadata": {},
     "source": [
      "##Working with Beats in TimeSignatures##"
     ]
    },
    {
     "cell_type": "markdown",
     "metadata": {},
     "source": [
      "Beyond just getting nicely formed measures, TimeSignature objects let us figure out information about what beat each :class:`~music21.note.Note` (or :class:`~music21.note.Rest` or :class:`~music21.chord.Chord`, etc.) is on.  Let's return to our Stream without measures and look at each note's beat:"
     ]
    },
    {
     "cell_type": "code",
     "collapsed": false,
     "input": [
      "stream1.notes[0]"
     ],
     "language": "python",
     "metadata": {},
     "outputs": [
      {
       "output_type": "pyout",
       "prompt_number": 9,
       "text": [
        "<music21.note.Note C>"
       ]
      }
     ],
     "prompt_number": 9
    },
    {
     "cell_type": "code",
     "collapsed": false,
     "input": [
      "stream1.notes[0].beat"
     ],
     "language": "python",
     "metadata": {},
     "outputs": [
      {
       "output_type": "pyout",
       "prompt_number": 10,
       "text": [
        "1.0"
       ]
      }
     ],
     "prompt_number": 10
    },
    {
     "cell_type": "markdown",
     "metadata": {},
     "source": [
      "Okay, so the first note is on beat 1 (represented as 1.0 here).  That's different from its `.offset` which is 0.0.  Remember that the offset is the number of quarter notes from the beginning of the containing `Stream`.  The `beat` on the other hand uses notation that is more familiar to musicians.  Let's look at the beat of all the notes in the Stream:"
     ]
    },
    {
     "cell_type": "code",
     "collapsed": false,
     "input": [
      "for n in stream1.notes:\n",
      "    print n, n.beat"
     ],
     "language": "python",
     "metadata": {},
     "outputs": [
      {
       "output_type": "stream",
       "stream": "stdout",
       "text": [
        "<music21.note.Note C> 1.0\n",
        "<music21.note.Note D> 3.0\n",
        "<music21.note.Note E> 1.0\n",
        "<music21.note.Note F> 2.0\n"
       ]
      }
     ],
     "prompt_number": 13
    },
    {
     "cell_type": "markdown",
     "metadata": {},
     "source": [
      "If we only wanted to find notes that were on the downbeat we could filter on beats like so:"
     ]
    },
    {
     "cell_type": "code",
     "collapsed": false,
     "input": [
      "for n in stream1.notes:\n",
      "    if n.beat == 1.0:\n",
      "        print n"
     ],
     "language": "python",
     "metadata": {},
     "outputs": [
      {
       "output_type": "stream",
       "stream": "stdout",
       "text": [
        "<music21.note.Note C>\n",
        "<music21.note.Note E>\n"
       ]
      }
     ],
     "prompt_number": 14
    },
    {
     "cell_type": "code",
     "collapsed": false,
     "input": [],
     "language": "python",
     "metadata": {},
     "outputs": []
    }
   ],
   "metadata": {}
  }
 ]
}