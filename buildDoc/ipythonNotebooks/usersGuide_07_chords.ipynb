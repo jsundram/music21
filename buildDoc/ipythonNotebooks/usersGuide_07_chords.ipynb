{
 "metadata": {
  "name": "usersGuide_07_chords"
 },
 "nbformat": 3,
 "nbformat_minor": 0,
 "worksheets": [
  {
   "cells": [
    {
     "cell_type": "markdown",
     "metadata": {},
     "source": [
      "User's Guide, Chapter 7: Chords\n",
      "================================"
     ]
    },
    {
     "cell_type": "code",
     "collapsed": false,
     "input": [
      "# ignore this\n",
      "%load_ext music21.ipython21.ipExtension"
     ],
     "language": "python",
     "metadata": {},
     "outputs": [],
     "prompt_number": 1
    },
    {
     "cell_type": "markdown",
     "metadata": {},
     "source": [
      "Chords, as the name might suggest, are objects that combine multiple :class:`~music21.pitch.Pitch` objects on a single stem.  They can be found in the :ref:`moduleChord` module. The most general way to create a :class:`~music21.chord.Chord` object is by passing in a list of pitch names you want in the chord:"
     ]
    },
    {
     "cell_type": "code",
     "collapsed": false,
     "input": [
      "from music21 import *\n",
      "cMinor = chord.Chord([\"C4\",\"G4\",\"E-5\"])"
     ],
     "language": "python",
     "metadata": {},
     "outputs": [],
     "prompt_number": 2
    },
    {
     "cell_type": "markdown",
     "metadata": {},
     "source": [
      "`Note` and `Chord` objects, since both are subclasses of the :class:`~music21.note.GeneralNote` object share many features in common:"
     ]
    },
    {
     "cell_type": "code",
     "collapsed": false,
     "input": [
      "cMinor.duration.type = 'half'\n",
      "\n",
      "cMinor.quarterLength"
     ],
     "language": "python",
     "metadata": {},
     "outputs": [
      {
       "output_type": "pyout",
       "prompt_number": 3,
       "text": [
        "2.0"
       ]
      }
     ],
     "prompt_number": 3
    },
    {
     "cell_type": "markdown",
     "metadata": {},
     "source": [
      "But since a `Chord` contains many pitches, it does not have a `.pitch` attribute:"
     ]
    },
    {
     "cell_type": "code",
     "collapsed": false,
     "input": [
      "cMinor.pitch"
     ],
     "language": "python",
     "metadata": {},
     "outputs": [
      {
       "ename": "AttributeError",
       "evalue": "'Chord' object has no attribute 'pitch'",
       "output_type": "pyerr",
       "traceback": [
        "\u001b[0;31m---------------------------------------------------------------------------\u001b[0m\n\u001b[0;31mAttributeError\u001b[0m                            Traceback (most recent call last)",
        "\u001b[0;32m<ipython-input-4-682233136f94>\u001b[0m in \u001b[0;36m<module>\u001b[0;34m()\u001b[0m\n\u001b[0;32m----> 1\u001b[0;31m \u001b[0mcMinor\u001b[0m\u001b[0;34m.\u001b[0m\u001b[0mpitch\u001b[0m\u001b[0;34m\u001b[0m\u001b[0m\n\u001b[0m",
        "\u001b[0;31mAttributeError\u001b[0m: 'Chord' object has no attribute 'pitch'"
       ]
      }
     ],
     "prompt_number": 4
    },
    {
     "cell_type": "markdown",
     "metadata": {},
     "source": [
      " Instead it has a :meth:`.pitches <music21.chord.Chord.pitches>` attribute which returns a List of pitches in the Chord."
     ]
    },
    {
     "cell_type": "code",
     "collapsed": false,
     "input": [
      "cMinor.pitches"
     ],
     "language": "python",
     "metadata": {},
     "outputs": [
      {
       "output_type": "pyout",
       "prompt_number": 5,
       "text": [
        "[<music21.pitch.Pitch C4>, <music21.pitch.Pitch G4>, <music21.pitch.Pitch E-5>]"
       ]
      }
     ],
     "prompt_number": 5
    },
    {
     "cell_type": "markdown",
     "metadata": {},
     "source": [
      "Okay, but you already knew what pitches were in the `Chord` since you just created it! What else can you do with it?\n",
      "\n",
      "How about determining if it is a :meth:`major <music21.chord.Chord.isMajorTriad>` or a :meth:`minor <music21.chord.Chord.isMinorTriad>` triad?"
     ]
    },
    {
     "cell_type": "code",
     "collapsed": false,
     "input": [
      "cMinor.isMajorTriad()"
     ],
     "language": "python",
     "metadata": {},
     "outputs": [
      {
       "output_type": "pyout",
       "prompt_number": 6,
       "text": [
        "False"
       ]
      }
     ],
     "prompt_number": 6
    },
    {
     "cell_type": "code",
     "collapsed": false,
     "input": [
      "cMinor.isMinorTriad()"
     ],
     "language": "python",
     "metadata": {},
     "outputs": [
      {
       "output_type": "pyout",
       "prompt_number": 7,
       "text": [
        "True"
       ]
      }
     ],
     "prompt_number": 7
    },
    {
     "cell_type": "markdown",
     "metadata": {},
     "source": [
      "You can also figure out if it is in inversion or not:"
     ]
    },
    {
     "cell_type": "code",
     "collapsed": false,
     "input": [
      "cMinor.inversion()"
     ],
     "language": "python",
     "metadata": {},
     "outputs": [
      {
       "output_type": "pyout",
       "prompt_number": 8,
       "text": [
        "0"
       ]
      }
     ],
     "prompt_number": 8
    },
    {
     "cell_type": "markdown",
     "metadata": {},
     "source": [
      "Chords in root position have inversion of 0.  But consider this other chord:"
     ]
    },
    {
     "cell_type": "code",
     "collapsed": false,
     "input": [
      "cMajor = chord.Chord([\"E3\",\"C4\",\"G4\"])\n",
      "cMajor.inversion()"
     ],
     "language": "python",
     "metadata": {},
     "outputs": [
      {
       "output_type": "pyout",
       "prompt_number": 9,
       "text": [
        "1"
       ]
      }
     ],
     "prompt_number": 9
    },
    {
     "cell_type": "markdown",
     "metadata": {},
     "source": [
      "With this chord, two other methods become important:"
     ]
    },
    {
     "cell_type": "code",
     "collapsed": false,
     "input": [
      "cMajor.root()"
     ],
     "language": "python",
     "metadata": {},
     "outputs": [
      {
       "output_type": "pyout",
       "prompt_number": 10,
       "text": [
        "<music21.pitch.Pitch C4>"
       ]
      }
     ],
     "prompt_number": 10
    },
    {
     "cell_type": "code",
     "collapsed": false,
     "input": [
      "cMajor.bass()"
     ],
     "language": "python",
     "metadata": {},
     "outputs": [
      {
       "output_type": "pyout",
       "prompt_number": 11,
       "text": [
        "<music21.pitch.Pitch E3>"
       ]
      }
     ],
     "prompt_number": 11
    },
    {
     "cell_type": "markdown",
     "metadata": {},
     "source": [
      "You can find the third and fifth of the `Chord` with .third and .fifth.  Note that these properties do not have `()` after them.  This was a mistake in how we created `music21` and hopefully this will all be fixed and consistent soon:"
     ]
    },
    {
     "cell_type": "code",
     "collapsed": false,
     "input": [
      "cMajor.third"
     ],
     "language": "python",
     "metadata": {},
     "outputs": [
      {
       "output_type": "pyout",
       "prompt_number": 12,
       "text": [
        "<music21.pitch.Pitch E3>"
       ]
      }
     ],
     "prompt_number": 12
    },
    {
     "cell_type": "code",
     "collapsed": false,
     "input": [
      "cMajor.fifth"
     ],
     "language": "python",
     "metadata": {},
     "outputs": [
      {
       "output_type": "pyout",
       "prompt_number": 13,
       "text": [
        "<music21.pitch.Pitch G4>"
       ]
      }
     ],
     "prompt_number": 13
    },
    {
     "cell_type": "markdown",
     "metadata": {},
     "source": [
      "There is also a .seventh property, but it won't do anything here:"
     ]
    },
    {
     "cell_type": "code",
     "collapsed": false,
     "input": [
      "cMajor.seventh"
     ],
     "language": "python",
     "metadata": {},
     "outputs": [],
     "prompt_number": 14
    },
    {
     "cell_type": "markdown",
     "metadata": {},
     "source": [
      "The result of that is `None` which we can test like so..."
     ]
    },
    {
     "cell_type": "code",
     "collapsed": false,
     "input": [
      "cMajor.seventh is None"
     ],
     "language": "python",
     "metadata": {},
     "outputs": [
      {
       "output_type": "pyout",
       "prompt_number": 15,
       "text": [
        "True"
       ]
      }
     ],
     "prompt_number": 15
    },
    {
     "cell_type": "markdown",
     "metadata": {},
     "source": [
      "Displaying Chords\n",
      "---------------------"
     ]
    },
    {
     "cell_type": "markdown",
     "metadata": {},
     "source": [
      "We can display the `Chord` object just like any :class:`~music21.note.Note` (Don't worry if this isn't working for you yet...we'll get this set up in Chapter 8)"
     ]
    },
    {
     "cell_type": "code",
     "collapsed": false,
     "input": [
      "cMinor.show()"
     ],
     "language": "python",
     "metadata": {},
     "outputs": [
      {
       "output_type": "pyout",
       "png": "[encoded data removed]",
       "prompt_number": 16,
       "text": [
        "<music21.ipython21.objects.IPythonPNGObject at 0x10bfedf50>"
       ]
      }
     ],
     "prompt_number": 16
    },
    {
     "cell_type": "code",
     "collapsed": false,
     "input": [
      "cMajor.show()"
     ],
     "language": "python",
     "metadata": {},
     "outputs": [
      {
       "output_type": "pyout",
       "png": "[encoded data removed]",
       "prompt_number": 17,
       "text": [
        "<music21.ipython21.objects.IPythonPNGObject at 0x10c044f10>"
       ]
      }
     ],
     "prompt_number": 17
    },
    {
     "cell_type": "markdown",
     "metadata": {},
     "source": [
      "These chords are a bit \"spacey\", so let's get ``c`` in :meth:`~music21.chord.Chord.closedPosition`:"
     ]
    },
    {
     "cell_type": "code",
     "collapsed": false,
     "input": [
      "cClosed = cMinor.closedPosition()\n",
      "cClosed.show()"
     ],
     "language": "python",
     "metadata": {},
     "outputs": [
      {
       "output_type": "pyout",
       "png": "[encoded data removed]",
       "prompt_number": 18,
       "text": [
        "<music21.ipython21.objects.IPythonPNGObject at 0x10c08b410>"
       ]
      }
     ],
     "prompt_number": 18
    },
    {
     "cell_type": "markdown",
     "metadata": {},
     "source": [
      "Notice that ``c`` is unchanged. The closed position chord is only `cClosed`:"
     ]
    },
    {
     "cell_type": "code",
     "collapsed": false,
     "input": [
      "cMinor.show()"
     ],
     "language": "python",
     "metadata": {},
     "outputs": [
      {
       "output_type": "pyout",
       "png": "[encoded data removed]",
       "prompt_number": 19,
       "text": [
        "<music21.ipython21.objects.IPythonPNGObject at 0x10b1113d0>"
       ]
      }
     ],
     "prompt_number": 19
    },
    {
     "cell_type": "markdown",
     "metadata": {},
     "source": [
      "If we wanted to change the Chord object itself, we call ```.closedPosition(inPlace = True)``` which alters the original.  Since the original is altered, we don't need to put `x = ...` in front of it"
     ]
    },
    {
     "cell_type": "code",
     "collapsed": false,
     "input": [
      "cMajor.closedPosition(inPlace = True)\n",
      "cMajor.show()"
     ],
     "language": "python",
     "metadata": {},
     "outputs": [
      {
       "output_type": "pyout",
       "png": "[encoded data removed]",
       "prompt_number": 20,
       "text": [
        "<music21.ipython21.objects.IPythonPNGObject at 0x10c044a90>"
       ]
      }
     ],
     "prompt_number": 20
    },
    {
     "cell_type": "markdown",
     "metadata": {},
     "source": [
      "There is also a method, :meth:`~music21.chord.Chord.semiClosedPosition` which acts like `.closedPosition` except that if there is already a pitch at that step (i.e., D-flat and D-sharp are both step \"D\"), then the note is moved up an octave. This is useful for displaying complex, post tonal chords in the most compact form possible:"
     ]
    },
    {
     "cell_type": "code",
     "collapsed": false,
     "input": [
      "c1 = chord.Chord(['C4','E5','C#6','E-7', 'G8','C9','E#9'])\n",
      "c2 = c1.semiClosedPosition()\n",
      "c2.show()"
     ],
     "language": "python",
     "metadata": {},
     "outputs": [
      {
       "output_type": "pyout",
       "png": "[encoded data removed]",
       "prompt_number": 21,
       "text": [
        "<music21.ipython21.objects.IPythonPNGObject at 0x10c093590>"
       ]
      }
     ],
     "prompt_number": 21
    },
    {
     "cell_type": "markdown",
     "metadata": {},
     "source": [
      "We can get the :meth:`common name <music21.chord.Chord.commonName>` of each of these Chords:"
     ]
    },
    {
     "cell_type": "code",
     "collapsed": false,
     "input": [
      "cn1 = cMinor.commonName\n",
      "print cn1"
     ],
     "language": "python",
     "metadata": {},
     "outputs": [
      {
       "output_type": "stream",
       "stream": "stdout",
       "text": [
        "minor triad\n"
       ]
      }
     ],
     "prompt_number": 22
    },
    {
     "cell_type": "code",
     "collapsed": false,
     "input": [
      "print cMajor.commonName"
     ],
     "language": "python",
     "metadata": {},
     "outputs": [
      {
       "output_type": "stream",
       "stream": "stdout",
       "text": [
        "major triad\n"
       ]
      }
     ],
     "prompt_number": 23
    },
    {
     "cell_type": "markdown",
     "metadata": {},
     "source": [
      "More complex chords have less common \"commonNames\".  Here's one that the American composer Elliott Carter liked a lot."
     ]
    },
    {
     "cell_type": "code",
     "collapsed": false,
     "input": [
      "elliottCarterChord = chord.Chord(['C4','D-4','E4','F#4'])\n",
      "elliottCarterChord.commonName"
     ],
     "language": "python",
     "metadata": {},
     "outputs": [
      {
       "output_type": "pyout",
       "prompt_number": 24,
       "text": [
        "'all-interval tetrachord'"
       ]
      }
     ],
     "prompt_number": 24
    },
    {
     "cell_type": "code",
     "collapsed": false,
     "input": [
      "elliottCarterChord.show()"
     ],
     "language": "python",
     "metadata": {},
     "outputs": [
      {
       "output_type": "pyout",
       "png": "[encoded data removed]",
       "prompt_number": 25,
       "text": [
        "<music21.ipython21.objects.IPythonPNGObject at 0x10c02e650>"
       ]
      }
     ],
     "prompt_number": 25
    },
    {
     "cell_type": "markdown",
     "metadata": {},
     "source": [
      "More ways of creating chords; Chords and Streams\n",
      "--------------------------------------------------"
     ]
    },
    {
     "cell_type": "markdown",
     "metadata": {},
     "source": [
      "There are other ways of creating a Chord if you'd like. One way is from a bunch of already created `Note` objects:"
     ]
    },
    {
     "cell_type": "code",
     "collapsed": false,
     "input": [
      "d = note.Note('D4')\n",
      "fSharp = note.Note('F#4')\n",
      "a = note.Note('A5')\n",
      "dMajor = chord.Chord([d, fSharp, a])\n",
      "\n",
      "dMajor.show()"
     ],
     "language": "python",
     "metadata": {},
     "outputs": [
      {
       "output_type": "pyout",
       "png": "[encoded data removed]",
       "prompt_number": 26,
       "text": [
        "<music21.ipython21.objects.IPythonPNGObject at 0x10c02e810>"
       ]
      }
     ],
     "prompt_number": 26
    },
    {
     "cell_type": "markdown",
     "metadata": {},
     "source": [
      "Or we can pass a string with note names separated by spaces:"
     ]
    },
    {
     "cell_type": "code",
     "collapsed": false,
     "input": [
      "e7 = chord.Chord(\"E4 G#4 B4 D5\")\n",
      "e7.show()"
     ],
     "language": "python",
     "metadata": {},
     "outputs": [
      {
       "output_type": "pyout",
       "png": "[encoded data removed]",
       "prompt_number": 27,
       "text": [
        "<music21.ipython21.objects.IPythonPNGObject at 0x10c044d90>"
       ]
      }
     ],
     "prompt_number": 27
    },
    {
     "cell_type": "markdown",
     "metadata": {},
     "source": [
      "The octaves are optional, especially if everything is within an octave:"
     ]
    },
    {
     "cell_type": "code",
     "collapsed": false,
     "input": [
      "es = chord.Chord(\"E- G B-\")\n",
      "es.show()"
     ],
     "language": "python",
     "metadata": {},
     "outputs": [
      {
       "output_type": "pyout",
       "png": "[encoded data removed]",
       "prompt_number": 28,
       "text": [
        "<music21.ipython21.objects.IPythonPNGObject at 0x10c044e50>"
       ]
      }
     ],
     "prompt_number": 28
    },
    {
     "cell_type": "markdown",
     "metadata": {},
     "source": [
      "But you will definitely want them if a chord crosses the boundary of an octave (between B and C).  Unless you love 6-4 chords, this is probably not what you want:"
     ]
    },
    {
     "cell_type": "code",
     "collapsed": false,
     "input": [
      "fMajor = chord.Chord(\"F A C\")\n",
      "fMajor.show()"
     ],
     "language": "python",
     "metadata": {},
     "outputs": [
      {
       "output_type": "pyout",
       "png": "[encoded data removed]",
       "prompt_number": 29,
       "text": [
        "<music21.ipython21.objects.IPythonPNGObject at 0x10c088c90>"
       ]
      }
     ],
     "prompt_number": 29
    },
    {
     "cell_type": "markdown",
     "metadata": {},
     "source": [
      "Notice that because C sorts before F and A that the chord is in second inversion, or 64.  We can figure out the inversion of a ``Chord`` like so:"
     ]
    },
    {
     "cell_type": "code",
     "collapsed": false,
     "input": [
      "print fMajor.inversion()\n",
      "print fMajor.inversionName()"
     ],
     "language": "python",
     "metadata": {},
     "outputs": [
      {
       "output_type": "stream",
       "stream": "stdout",
       "text": [
        "2\n",
        "64\n"
       ]
      }
     ],
     "prompt_number": 30
    },
    {
     "cell_type": "markdown",
     "metadata": {},
     "source": [
      "In addition to .commonName, there are a few other \"name\" properties that might be interesting:"
     ]
    },
    {
     "cell_type": "code",
     "collapsed": false,
     "input": [
      "fMajor.fullName"
     ],
     "language": "python",
     "metadata": {},
     "outputs": [
      {
       "output_type": "pyout",
       "prompt_number": 31,
       "text": [
        "'Chord {F | A | C} Quarter'"
       ]
      }
     ],
     "prompt_number": 31
    },
    {
     "cell_type": "code",
     "collapsed": false,
     "input": [
      "fMajor.pitchedCommonName"
     ],
     "language": "python",
     "metadata": {},
     "outputs": [
      {
       "output_type": "pyout",
       "prompt_number": 32,
       "text": [
        "'F-major triad'"
       ]
      }
     ],
     "prompt_number": 32
    },
    {
     "cell_type": "markdown",
     "metadata": {},
     "source": [
      "Like `Note` objects, we can put `Chord` objects inside a :class:`~music21.strea.Stream`:"
     ]
    },
    {
     "cell_type": "code",
     "collapsed": false,
     "input": [
      "stream1 = stream.Stream()\n",
      "stream1.append(cMinor)\n",
      "stream1.append(fMajor)\n",
      "stream1.append(es)\n",
      "stream1.show()"
     ],
     "language": "python",
     "metadata": {},
     "outputs": [
      {
       "output_type": "pyout",
       "png": "[encoded data removed]",
       "prompt_number": 33,
       "text": [
        "<music21.ipython21.objects.IPythonPNGObject at 0x10c088890>"
       ]
      }
     ],
     "prompt_number": 33
    },
    {
     "cell_type": "markdown",
     "metadata": {},
     "source": [
      "We can mix and match `Notes`, :class:`Rests <music21.note.Rest>`, and `Chords`:"
     ]
    },
    {
     "cell_type": "code",
     "collapsed": false,
     "input": [
      "rest1 = note.Rest()\n",
      "rest1.quarterLength = 0.5\n",
      "noteASharp = note.Note('A#5')\n",
      "noteASharp.quarterLength = 1.5\n",
      "\n",
      "stream2 = stream.Stream()\n",
      "stream2.append(cMinor)\n",
      "stream2.append(rest1)\n",
      "stream2.append(noteASharp)\n",
      "stream2.show()"
     ],
     "language": "python",
     "metadata": {},
     "outputs": [
      {
       "output_type": "pyout",
       "png": "[encoded data removed]",
       "prompt_number": 34,
       "text": [
        "<music21.ipython21.objects.IPythonPNGObject at 0x10c0a4fd0>"
       ]
      }
     ],
     "prompt_number": 34
    },
    {
     "cell_type": "markdown",
     "metadata": {},
     "source": [
      "Post-tonal chords (in brief)\n",
      "-------------------------------"
     ]
    },
    {
     "cell_type": "markdown",
     "metadata": {},
     "source": [
      "There are a lot of methods for dealing with post-tonal aspects of chords.  If you're not interested in twentieth century music, go ahead and skip to the next chapter, but, here are some fun things.\n",
      "\n",
      "The `intervalVector` of a chord is a list of the number of `[semitones, whole-tones, minor-thirds/augmented-seconds, major-thirds, perfect fourths, and tritones]` in the chord or inversion.  A minor triad, for instance, has one minor third (C to E-flat), one major third (E-flat to G), and one perfect fourth (G to C above, since octave does not matter):"
     ]
    },
    {
     "cell_type": "code",
     "collapsed": false,
     "input": [
      "cMinor.intervalVector"
     ],
     "language": "python",
     "metadata": {},
     "outputs": [
      {
       "output_type": "pyout",
       "prompt_number": 35,
       "text": [
        "[0, 0, 1, 1, 1, 0]"
       ]
      }
     ],
     "prompt_number": 35
    },
    {
     "cell_type": "markdown",
     "metadata": {},
     "source": [
      "A major triad has the same interval vector:"
     ]
    },
    {
     "cell_type": "code",
     "collapsed": false,
     "input": [
      "cMajor.intervalVector"
     ],
     "language": "python",
     "metadata": {},
     "outputs": [
      {
       "output_type": "pyout",
       "prompt_number": 36,
       "text": [
        "[0, 0, 1, 1, 1, 0]"
       ]
      }
     ],
     "prompt_number": 36
    },
    {
     "cell_type": "markdown",
     "metadata": {},
     "source": [
      "The elliottCarterChord is unique in that it has an `.intervalVector` of all 1's:"
     ]
    },
    {
     "cell_type": "code",
     "collapsed": false,
     "input": [
      "elliottCarterChord.intervalVector"
     ],
     "language": "python",
     "metadata": {},
     "outputs": [
      {
       "output_type": "pyout",
       "prompt_number": 37,
       "text": [
        "[1, 1, 1, 1, 1, 1]"
       ]
      }
     ],
     "prompt_number": 37
    },
    {
     "cell_type": "markdown",
     "metadata": {},
     "source": [
      "Well, it's almost unique: there is another chord with the same `.intervalVector`. That Chord is called its Z-relation or Z-pair."
     ]
    },
    {
     "cell_type": "code",
     "collapsed": false,
     "input": [
      "elliottCarterChord.hasZRelation"
     ],
     "language": "python",
     "metadata": {},
     "outputs": [
      {
       "output_type": "pyout",
       "prompt_number": 38,
       "text": [
        "True"
       ]
      }
     ],
     "prompt_number": 38
    },
    {
     "cell_type": "code",
     "collapsed": false,
     "input": [
      "otherECChord = elliottCarterChord.getZRelation()\n",
      "otherECChord"
     ],
     "language": "python",
     "metadata": {},
     "outputs": [
      {
       "output_type": "pyout",
       "prompt_number": 39,
       "text": [
        "<music21.chord.Chord C C# E- G>"
       ]
      }
     ],
     "prompt_number": 39
    },
    {
     "cell_type": "markdown",
     "metadata": {},
     "source": [
      "We can see it (our Lilypond output currently isn't putting the accidental right here...it works fine in MusicXML...)"
     ]
    },
    {
     "cell_type": "code",
     "collapsed": false,
     "input": [
      "otherECChord.show()"
     ],
     "language": "python",
     "metadata": {},
     "outputs": [
      {
       "output_type": "pyout",
       "png": "[encoded data removed]",
       "prompt_number": 40,
       "text": [
        "<music21.ipython21.objects.IPythonPNGObject at 0x10c093390>"
       ]
      }
     ],
     "prompt_number": 40
    },
    {
     "cell_type": "code",
     "collapsed": false,
     "input": [
      "otherECChord.intervalVector"
     ],
     "language": "python",
     "metadata": {},
     "outputs": [
      {
       "output_type": "pyout",
       "prompt_number": 41,
       "text": [
        "[1, 1, 1, 1, 1, 1]"
       ]
      }
     ],
     "prompt_number": 41
    },
    {
     "cell_type": "markdown",
     "metadata": {},
     "source": [
      "The other post-tonal tools you might be interested in are given below. We'll return to them in a later chapter:"
     ]
    },
    {
     "cell_type": "code",
     "collapsed": false,
     "input": [
      "print elliottCarterChord.primeForm\n",
      "print elliottCarterChord.normalForm\n",
      "print elliottCarterChord.forteClass"
     ],
     "language": "python",
     "metadata": {},
     "outputs": [
      {
       "output_type": "stream",
       "stream": "stdout",
       "text": [
        "[0, 1, 4, 6]\n",
        "[0, 1, 4, 6]\n",
        "4-15A\n"
       ]
      }
     ],
     "prompt_number": 42
    },
    {
     "cell_type": "markdown",
     "metadata": {},
     "source": [
      "If you really only care about semitones, you can create a chord just with the pitchClasses:"
     ]
    },
    {
     "cell_type": "code",
     "collapsed": false,
     "input": [
      "oddChord = chord.Chord([1, 3, 7, 9, 10])\n",
      "oddChord.show()"
     ],
     "language": "python",
     "metadata": {},
     "outputs": [
      {
       "output_type": "pyout",
       "png": "[encoded data removed]",
       "prompt_number": 43,
       "text": [
        "<music21.ipython21.objects.IPythonPNGObject at 0x10c088850>"
       ]
      }
     ],
     "prompt_number": 43
    },
    {
     "cell_type": "markdown",
     "metadata": {},
     "source": [
      "Though if you use pitchClasses above 11, then they are treated as MIDI numbers, where 60 = MiddleC, 72 = C5, etc.  Enharmonic spelling is chosen automatically."
     ]
    },
    {
     "cell_type": "code",
     "collapsed": false,
     "input": [
      "midiChordType = chord.Chord([60, 65, 70, 75])\n",
      "midiChordType.show()"
     ],
     "language": "python",
     "metadata": {},
     "outputs": [
      {
       "output_type": "pyout",
       "png": "[encoded data removed]",
       "prompt_number": 44,
       "text": [
        "<music21.ipython21.objects.IPythonPNGObject at 0x10c0933d0>"
       ]
      }
     ],
     "prompt_number": 44
    },
    {
     "cell_type": "markdown",
     "metadata": {},
     "source": [
      "Okay, so now you've learned the basics (and more!) of Notes and Chords, the next chapter will cover configuring MusicXML and writing files."
     ]
    }
   ],
   "metadata": {}
  }
 ]
}