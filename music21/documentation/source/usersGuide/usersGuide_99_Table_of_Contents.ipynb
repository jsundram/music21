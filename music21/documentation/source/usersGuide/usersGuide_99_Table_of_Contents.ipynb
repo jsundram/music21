{
 "metadata": {
  "name": "usersGuide_99_Table_of_Contents"
 },
 "nbformat": 3,
 "nbformat_minor": 0,
 "worksheets": [
  {
   "cells": [
    {
     "cell_type": "markdown",
     "metadata": {},
     "source": [
      "#User's Guide, Table of Contents#\n",
      "\n",
      "This is the table of contents for the eventual User's Guide, where topics will be linked and added as the topics are written:\n",
      "\n",
      "Introduction (to be taken from the **Quick Start**)\n",
      "\n",
      "1.\tInstalling (sigh!)\n",
      "2.\tNotes\n",
      "3.\tPitches, Durations, Notes again\n",
      "4.\tBasic Streams\n",
      "5.\tLists of Lists\n",
      "6.\tNested Streams and Basic Hierarchies\n",
      "7.\t:ref:`Chords <usersGuide_07_chords>`\n",
      "8.\tConfiguring MusicXML reader. Making files\n",
      "9.\tChordify\n",
      "10.\tFile formats (1)\n",
      "11.\tCorpus Studies\n",
      "12.\tRecursive Streams, inPlace, and deepcopy\n",
      "13.\tChorales as a corpus\n",
      "14.\tTime Signatures\n",
      "15.\tKey Signatures and Keys\n",
      "16.\tIntervals\n",
      "17.\tMore durations: Complex, ties, and tuplets\n",
      "18.\tEnvironment\n",
      "19.\tBasic Analysis Tools\n",
      "20.\tAdvanced Meter topics\n",
      "21.\tGraphing\n",
      "22.\tSearching for Files and Metadata\n",
      "23.\tMaking a local corpus\n",
      "24.\tPost tonal tools (1)\n",
      "25.\tBars and Layout\n",
      "26.\tRepeats\n",
      "27.\tFreezeThaw\n",
      "28.\tSlurs\n",
      "29.\tSpanners\n",
      "30.\tOssias, Variants, and musicDiff\n",
      "31.\tTinyNotation (2): Expanding and subclassing\n",
      "32.\tDynamics\n",
      "33.\tSearching in and among Scores\n",
      "34.\tVoice leading\n",
      "35.\tClefs and Articulations\n",
      "36.\tInstruments\n",
      "37.\tScales\n",
      "38.\tAudio searching\n",
      "39.\tSpecies counterpoint\n",
      "40.\tRoman numeral analysis\n",
      "41.\tComposing algorithmic music\n",
      "42.\tFeature Extraction (1)\n",
      "43.\tRepeats\n",
      "44.\tPost tonal tools (2): Advanced and Xenakis Sieves\n",
      "45.\tChord symbols\n",
      "46.\tExpressions\n",
      "47.\tTempo\n",
      "48.\tFeature Extraction (2)\n",
      "49.\tFigured Bass\n",
      "50.\tMIDI -- advanced\n",
      "51.\tMedieval and Renaissance extensions\n"
     ]
    }
   ],
   "metadata": {}
  }
 ]
}