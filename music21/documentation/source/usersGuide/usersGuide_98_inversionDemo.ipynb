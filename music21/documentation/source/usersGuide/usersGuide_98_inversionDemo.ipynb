{
 "metadata": {
  "name": "usersGuide_98_inversionDemo"
 },
 "nbformat": 3,
 "nbformat_minor": 0,
 "worksheets": [
  {
   "cells": [
    {
     "cell_type": "code",
     "collapsed": false,
     "input": [
      "from music21 import *"
     ],
     "language": "python",
     "metadata": {},
     "outputs": [],
     "prompt_number": 1
    },
    {
     "cell_type": "code",
     "collapsed": false,
     "input": [
      "# ignore this\n",
      "%load_ext music21.ipython21.ipExtension"
     ],
     "language": "python",
     "metadata": {},
     "outputs": [],
     "prompt_number": 2
    },
    {
     "cell_type": "code",
     "collapsed": false,
     "input": [
      "import copy"
     ],
     "language": "python",
     "metadata": {},
     "outputs": [],
     "prompt_number": 3
    },
    {
     "cell_type": "code",
     "collapsed": false,
     "input": [
      "it = ['M-3','P1','A4']"
     ],
     "language": "python",
     "metadata": {},
     "outputs": [],
     "prompt_number": 4
    },
    {
     "cell_type": "code",
     "collapsed": false,
     "input": [
      "p = pitch.Pitch('F4')\n",
      "cList = []"
     ],
     "language": "python",
     "metadata": {},
     "outputs": [],
     "prompt_number": 5
    },
    {
     "cell_type": "code",
     "collapsed": false,
     "input": [
      "for int in it:\n",
      "    pNew = p.transpose(int, inPlace=False)\n",
      "    cList.append(pNew)"
     ],
     "language": "python",
     "metadata": {},
     "outputs": [],
     "prompt_number": 6
    },
    {
     "cell_type": "code",
     "collapsed": false,
     "input": [
      "cList"
     ],
     "language": "python",
     "metadata": {},
     "outputs": [
      {
       "output_type": "pyout",
       "prompt_number": 7,
       "text": [
        "[<music21.pitch.Pitch D-4>, <music21.pitch.Pitch F4>, <music21.pitch.Pitch B4>]"
       ]
      }
     ],
     "prompt_number": 7
    },
    {
     "cell_type": "code",
     "collapsed": false,
     "input": [
      "chord1 = chord.Chord(cList)\n",
      "chord1.show()"
     ],
     "language": "python",
     "metadata": {},
     "outputs": [
      {
       "output_type": "pyout",
       "png": "[encoded data removed]",
       "prompt_number": 8,
       "text": [
        "<music21.ipython21.objects.IPythonPNGObject at 0x112333b10>"
       ]
      }
     ],
     "prompt_number": 8
    },
    {
     "cell_type": "code",
     "collapsed": false,
     "input": [
      "chord1.inversion(0)"
     ],
     "language": "python",
     "metadata": {},
     "outputs": [],
     "prompt_number": 9
    },
    {
     "cell_type": "code",
     "collapsed": false,
     "input": [
      "chord1.show()"
     ],
     "language": "python",
     "metadata": {},
     "outputs": [
      {
       "output_type": "pyout",
       "png": "[encoded data removed]",
       "prompt_number": 10,
       "text": [
        "<music21.ipython21.objects.IPythonPNGObject at 0x112285650>"
       ]
      }
     ],
     "prompt_number": 10
    },
    {
     "cell_type": "code",
     "collapsed": false,
     "input": [
      "max(chord1.pitches)"
     ],
     "language": "python",
     "metadata": {},
     "outputs": [
      {
       "output_type": "pyout",
       "prompt_number": 11,
       "text": [
        "<music21.pitch.Pitch F5>"
       ]
      }
     ],
     "prompt_number": 11
    },
    {
     "cell_type": "code",
     "collapsed": false,
     "input": [
      "cMaj = chord.Chord(\"C3 E3 G3\")\n",
      "s = stream.Stream()\n",
      "for i in range(20):\n",
      "    inv = i % 3\n",
      "    s.append(cMaj)\n",
      "    cMajCopy = copy.deepcopy(cMaj)\n",
      "    cMajCopy.inversion(inv)\n",
      "    cMaj = cMajCopy\n"
     ],
     "language": "python",
     "metadata": {},
     "outputs": [],
     "prompt_number": 12
    },
    {
     "cell_type": "code",
     "collapsed": false,
     "input": [
      "s.show('text')"
     ],
     "language": "python",
     "metadata": {},
     "outputs": [
      {
       "output_type": "stream",
       "stream": "stdout",
       "text": [
        "{0.0} <music21.chord.Chord C3 E3 G3>\n",
        "{1.0} <music21.chord.Chord C3 E3 G3>\n",
        "{2.0} <music21.chord.Chord E3 G3 C4>\n",
        "{3.0} <music21.chord.Chord G3 C4 E4>\n",
        "{4.0} <music21.chord.Chord C4 E4 G4>\n",
        "{5.0} <music21.chord.Chord E4 G4 C5>\n",
        "{6.0} <music21.chord.Chord G4 C5 E5>\n",
        "{7.0} <music21.chord.Chord C5 E5 G5>\n",
        "{8.0} <music21.chord.Chord E5 G5 C6>\n",
        "{9.0} <music21.chord.Chord G5 C6 E6>\n",
        "{10.0} <music21.chord.Chord C6 E6 G6>\n",
        "{11.0} <music21.chord.Chord E6 G6 C7>\n",
        "{12.0} <music21.chord.Chord G6 C7 E7>\n",
        "{13.0} <music21.chord.Chord C7 E7 G7>\n",
        "{14.0} <music21.chord.Chord E7 G7 C8>\n",
        "{15.0} <music21.chord.Chord G7 C8 E8>\n",
        "{16.0} <music21.chord.Chord C8 E8 G8>\n",
        "{17.0} <music21.chord.Chord E8 G8 C9>\n",
        "{18.0} <music21.chord.Chord G8 C9 E9>\n",
        "{19.0} <music21.chord.Chord C9 E9 G9>\n"
       ]
      }
     ],
     "prompt_number": 13
    },
    {
     "cell_type": "code",
     "collapsed": false,
     "input": [
      "s.show()"
     ],
     "language": "python",
     "metadata": {},
     "outputs": [
      {
       "output_type": "pyout",
       "png": "[encoded data removed]",
       "prompt_number": 14,
       "text": [
        "<music21.ipython21.objects.IPythonPNGObject at 0x112285450>"
       ]
      }
     ],
     "prompt_number": 14
    },
    {
     "cell_type": "code",
     "collapsed": false,
     "input": [
      "cMaj = chord.Chord(\"C1 G1 E2\")\n",
      "s = stream.Stream()\n",
      "for i in range(12):\n",
      "    inv = i % 3\n",
      "    s.append(cMaj)\n",
      "    cMajCopy = copy.deepcopy(cMaj)\n",
      "    cMajCopy.inversion(inv)\n",
      "    cMaj = cMajCopy"
     ],
     "language": "python",
     "metadata": {},
     "outputs": [],
     "prompt_number": 19
    },
    {
     "cell_type": "code",
     "collapsed": false,
     "input": [
      "s.show()"
     ],
     "language": "python",
     "metadata": {},
     "outputs": [
      {
       "output_type": "pyout",
       "png": "[encoded data removed]",
       "prompt_number": 20,
       "text": [
        "<music21.ipython21.objects.IPythonPNGObject at 0x112321f90>"
       ]
      }
     ],
     "prompt_number": 20
    },
    {
     "cell_type": "code",
     "collapsed": false,
     "input": [
      "cMaj = chord.Chord(\"C3 E3 G3 B-3 D-4 F#4\")\n",
      "s = stream.Stream()\n",
      "for i in range(18):\n",
      "    inv = i % 6\n",
      "    s.append(cMaj)\n",
      "    cMajCopy = copy.deepcopy(cMaj)\n",
      "    cMajCopy.inversion(inv)\n",
      "    cMaj = cMajCopy"
     ],
     "language": "python",
     "metadata": {},
     "outputs": [],
     "prompt_number": 21
    },
    {
     "cell_type": "code",
     "collapsed": false,
     "input": [
      "s.show()"
     ],
     "language": "python",
     "metadata": {},
     "outputs": [
      {
       "output_type": "pyout",
       "png": "[encoded data removed]",
       "prompt_number": 22,
       "text": [
        "<music21.ipython21.objects.IPythonPNGObject at 0x1122bff90>"
       ]
      }
     ],
     "prompt_number": 22
    },
    {
     "cell_type": "code",
     "collapsed": false,
     "input": [
      "s.show('midi')"
     ],
     "language": "python",
     "metadata": {},
     "outputs": [],
     "prompt_number": 23
    },
    {
     "cell_type": "code",
     "collapsed": false,
     "input": [
      "Germ6 = chord.Chord(\"A-3 C4 E-4 F#4\")\n",
      "s = stream.Stream()\n",
      "print Germ6.inversion()\n",
      "for i in range(12):\n",
      "    inv = i % 3\n",
      "    s.append(Germ6)\n",
      "    cMajCopy = copy.deepcopy(Germ6)\n",
      "    cMajCopy.inversion(inv)\n",
      "    Germ6 = cMajCopy"
     ],
     "language": "python",
     "metadata": {},
     "outputs": [
      {
       "output_type": "stream",
       "stream": "stdout",
       "text": [
        "1\n"
       ]
      }
     ],
     "prompt_number": 33
    },
    {
     "cell_type": "code",
     "collapsed": false,
     "input": [
      "s.show()"
     ],
     "language": "python",
     "metadata": {},
     "outputs": [
      {
       "output_type": "pyout",
       "png": "[encoded data removed]",
       "prompt_number": 25,
       "text": [
        "<music21.ipython21.objects.IPythonPNGObject at 0x1123b2d90>"
       ]
      }
     ],
     "prompt_number": 25
    },
    {
     "cell_type": "code",
     "collapsed": false,
     "input": [],
     "language": "python",
     "metadata": {},
     "outputs": []
    }
   ],
   "metadata": {}
  }
 ]
}