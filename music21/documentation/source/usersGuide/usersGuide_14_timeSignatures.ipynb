{
 "metadata": {
  "name": "usersGuide_14_timeSignatures"
 },
 "nbformat": 3,
 "nbformat_minor": 0,
 "worksheets": [
  {
   "cells": [
    {
     "cell_type": "markdown",
     "metadata": {},
     "source": [
      "#User's Guide: Chapter 14: Time Signatures#\n",
      "\n",
      "Up until now almost all the music we've been working with has been in 4/4.  That's not because we love common time so much, but simply because as we noted in :ref:`Chapter 4 <usersGuide_04_stream1>` it's because 4/4 is the default time signature for `music21` :class:`~music21.stream.Stream` objects that don't have another time signature applied to them.\n",
      "\n",
      "Everything that we need to use other time signatures is contained in the `meter` module, which is imported when you type `from music21 import *`.  There are lots of things in that module, but the one that we care about most is the :class:`~music21.meter.TimeSignature` object.  Let's create a couple of notes and a `TimeSignature` object."
     ]
    },
    {
     "cell_type": "code",
     "collapsed": false,
     "input": [
      "# ignore this\n",
      "%load_ext music21.ipython21.ipExtension"
     ],
     "language": "python",
     "metadata": {},
     "outputs": [],
     "prompt_number": 1
    },
    {
     "cell_type": "code",
     "collapsed": false,
     "input": [
      "from music21 import *\n",
      "\n",
      "noteC = note.Note(\"C4\", type=\"half\")\n",
      "noteD = note.Note(\"D4\", type=\"quarter\")\n",
      "noteE = note.Note(\"E4\", type=\"quarter\")\n",
      "noteF = note.Note(\"F4\", type=\"half\")\n",
      "\n",
      "tsThreeFour = meter.TimeSignature('3/4')\n",
      "\n",
      "print tsThreeFour.numerator, '/',  tsThreeFour.denominator"
     ],
     "language": "python",
     "metadata": {},
     "outputs": [
      {
       "output_type": "stream",
       "stream": "stdout",
       "text": [
        "3 / 4\n"
       ]
      }
     ],
     "prompt_number": 2
    },
    {
     "cell_type": "markdown",
     "metadata": {},
     "source": [
      "Now that we have our objects, let's create a `Stream` object that uses these notes and the TimeSignature object.  We'll append each object in order using a `for` loop:"
     ]
    },
    {
     "cell_type": "code",
     "collapsed": false,
     "input": [
      "stream1 = stream.Stream()\n",
      "\n",
      "for thisThing in [tsThreeFour, noteC, noteD, noteE, noteF]:\n",
      "    stream1.append(thisThing)"
     ],
     "language": "python",
     "metadata": {},
     "outputs": [],
     "prompt_number": 3
    },
    {
     "cell_type": "markdown",
     "metadata": {},
     "source": [
      "Let's look at `stream1` using `.show('text')`:"
     ]
    },
    {
     "cell_type": "code",
     "collapsed": false,
     "input": [
      "stream1.show('text')"
     ],
     "language": "python",
     "metadata": {},
     "outputs": [
      {
       "output_type": "stream",
       "stream": "stdout",
       "text": [
        "{0.0} <music21.meter.TimeSignature 3/4>\n",
        "{0.0} <music21.note.Note C>\n",
        "{2.0} <music21.note.Note D>\n",
        "{3.0} <music21.note.Note E>\n",
        "{4.0} <music21.note.Note F>\n"
       ]
      }
     ],
     "prompt_number": 4
    },
    {
     "cell_type": "markdown",
     "metadata": {},
     "source": [
      "Notice that both the time signature and the first note begin at `offset` 0.0 in the Stream? That's because by default TimeSignature objects have no length:"
     ]
    },
    {
     "cell_type": "code",
     "collapsed": false,
     "input": [
      "tsThreeFour.duration.quarterLength"
     ],
     "language": "python",
     "metadata": {},
     "outputs": [
      {
       "output_type": "pyout",
       "prompt_number": 5,
       "text": [
        "0.0"
       ]
      }
     ],
     "prompt_number": 5
    },
    {
     "cell_type": "markdown",
     "metadata": {},
     "source": [
      "If we :meth:`~music21.base.Music21Object.show` the `Stream` without using `show('text')`, we see that there are two measures of 3/4:"
     ]
    },
    {
     "cell_type": "code",
     "collapsed": false,
     "input": [
      "stream1.show()"
     ],
     "language": "python",
     "metadata": {},
     "outputs": [
      {
       "output_type": "pyout",
       "png": "[encoded data removed]",
       "prompt_number": 6,
       "text": [
        "<music21.ipython21.objects.IPythonPNGObject at 0x109a57f10>"
       ]
      }
     ],
     "prompt_number": 6
    },
    {
     "cell_type": "markdown",
     "metadata": {},
     "source": [
      "The `TimeSignature` object helps the display module known how to divide the Stream into `Measure` objects.  We can see this process directly if we create a new `Stream` from `stream1` that has measures using the :meth:`~music21.stream.Stream.makeMeasures` command:"
     ]
    },
    {
     "cell_type": "code",
     "collapsed": false,
     "input": [
      "stream2 = stream1.makeMeasures()\n",
      "stream2.show('text')"
     ],
     "language": "python",
     "metadata": {},
     "outputs": [
      {
       "output_type": "stream",
       "stream": "stdout",
       "text": [
        "{0.0} <music21.stream.Measure 1 offset=0.0>\n",
        "    {0.0} <music21.clef.TrebleClef>\n",
        "    {0.0} <music21.meter.TimeSignature 3/4>\n",
        "    {0.0} <music21.note.Note C>\n",
        "    {2.0} <music21.note.Note D>\n",
        "{3.0} <music21.stream.Measure 2 offset=3.0>\n",
        "    {0.0} <music21.note.Note E>\n",
        "    {1.0} <music21.note.Note F>\n",
        "    {3.0} <music21.bar.Barline style=final>\n"
       ]
      }
     ],
     "prompt_number": 7
    },
    {
     "cell_type": "markdown",
     "metadata": {},
     "source": [
      "The makeMeasures command, by the way, also put a TrebleClef into the `Stream` and set the last barline to \"final\", which makes its output a little prettier in Lilypond (which is what the documentation uses; you are probably using MusicXML if you're following along, which gets it right...)"
     ]
    },
    {
     "cell_type": "code",
     "collapsed": false,
     "input": [
      "stream2.show()"
     ],
     "language": "python",
     "metadata": {},
     "outputs": [
      {
       "output_type": "pyout",
       "png": "[encoded data removed]",
       "prompt_number": 8,
       "text": [
        "<music21.ipython21.objects.IPythonPNGObject at 0x1099a3650>"
       ]
      }
     ],
     "prompt_number": 8
    },
    {
     "cell_type": "markdown",
     "metadata": {},
     "source": [
      "##Working with Beats in TimeSignatures##\n",
      "\n",
      "Beyond just getting nicely formed measures, TimeSignature objects let us figure out information about what beat each :class:`~music21.note.Note` (or :class:`~music21.note.Rest` or :class:`~music21.chord.Chord`, etc.) is on.  Let's return to our Stream without measures and look at each note's beat:"
     ]
    },
    {
     "cell_type": "code",
     "collapsed": false,
     "input": [
      "stream1.notes[0]"
     ],
     "language": "python",
     "metadata": {},
     "outputs": [
      {
       "output_type": "pyout",
       "prompt_number": 9,
       "text": [
        "<music21.note.Note C>"
       ]
      }
     ],
     "prompt_number": 9
    },
    {
     "cell_type": "code",
     "collapsed": false,
     "input": [
      "stream1.notes[0].beat"
     ],
     "language": "python",
     "metadata": {},
     "outputs": [
      {
       "output_type": "pyout",
       "prompt_number": 10,
       "text": [
        "1.0"
       ]
      }
     ],
     "prompt_number": 10
    },
    {
     "cell_type": "markdown",
     "metadata": {},
     "source": [
      "Okay, so the first note is on beat 1 (represented as 1.0 here).  That's different from its `.offset` which is 0.0.  Remember that the offset is the number of quarter notes from the beginning of the containing `Stream`.  The `beat` on the other hand uses notation that is more familiar to musicians.  Let's look at the beat of all the notes in the Stream:"
     ]
    },
    {
     "cell_type": "code",
     "collapsed": false,
     "input": [
      "for n in stream1.notes:\n",
      "    print n, n.beat"
     ],
     "language": "python",
     "metadata": {},
     "outputs": [
      {
       "output_type": "stream",
       "stream": "stdout",
       "text": [
        "<music21.note.Note C> 1.0\n",
        "<music21.note.Note D> 3.0\n",
        "<music21.note.Note E> 1.0\n",
        "<music21.note.Note F> 2.0\n"
       ]
      }
     ],
     "prompt_number": 11
    },
    {
     "cell_type": "markdown",
     "metadata": {},
     "source": [
      "If we only wanted to find notes that were on the downbeat we could filter on beats like so:"
     ]
    },
    {
     "cell_type": "code",
     "collapsed": false,
     "input": [
      "for n in stream1.notes:\n",
      "    if n.beat == 1.0:\n",
      "        print n"
     ],
     "language": "python",
     "metadata": {},
     "outputs": [
      {
       "output_type": "stream",
       "stream": "stdout",
       "text": [
        "<music21.note.Note C>\n",
        "<music21.note.Note E>\n"
       ]
      }
     ],
     "prompt_number": 12
    },
    {
     "cell_type": "markdown",
     "metadata": {},
     "source": [
      "What would happen if the time signature were different?  We can find out by changing the TimeSignature object already in the Stream:"
     ]
    },
    {
     "cell_type": "code",
     "collapsed": false,
     "input": [
      "tsThreeFour.ratioString"
     ],
     "language": "python",
     "metadata": {},
     "outputs": [
      {
       "output_type": "pyout",
       "prompt_number": 13,
       "text": [
        "'3/4'"
       ]
      }
     ],
     "prompt_number": 13
    },
    {
     "cell_type": "code",
     "collapsed": false,
     "input": [
      "tsThreeFour.ratioString = '2/4'"
     ],
     "language": "python",
     "metadata": {},
     "outputs": [],
     "prompt_number": 14
    },
    {
     "cell_type": "markdown",
     "metadata": {},
     "source": [
      "Now the variable name of the TimeSignature object makes little sense, but we do find that the first, second, and fourth notes are on the downbeat."
     ]
    },
    {
     "cell_type": "code",
     "collapsed": false,
     "input": [
      "for n in stream1.notes:\n",
      "    print n, n.beat"
     ],
     "language": "python",
     "metadata": {},
     "outputs": [
      {
       "output_type": "stream",
       "stream": "stdout",
       "text": [
        "<music21.note.Note C> 1.0\n",
        "<music21.note.Note D> 1.0\n",
        "<music21.note.Note E> 2.0\n",
        "<music21.note.Note F> 1.0\n"
       ]
      }
     ],
     "prompt_number": 15
    },
    {
     "cell_type": "markdown",
     "metadata": {},
     "source": [
      "If we change the TimeSignature again to 6/8 then the same notes will be on the downbeat as in the original 3/4 Stream, but they will have different beat numbers.  This time we'll use the `.numerator` and `.denominator` to change the meter.  (Remember that all these different tricks are documented in full at :class:`music21.meter.TimeSignature`."
     ]
    },
    {
     "cell_type": "code",
     "collapsed": false,
     "input": [
      "tsThreeFour.numerator = 6\n",
      "tsThreeFour.denominator = 8\n",
      "tsThreeFour"
     ],
     "language": "python",
     "metadata": {},
     "outputs": [
      {
       "output_type": "pyout",
       "prompt_number": 16,
       "text": [
        "<music21.meter.TimeSignature 6/8>"
       ]
      }
     ],
     "prompt_number": 16
    },
    {
     "cell_type": "code",
     "collapsed": false,
     "input": [
      "for n in stream1.notes:\n",
      "    print n, n.beat"
     ],
     "language": "python",
     "metadata": {},
     "outputs": [
      {
       "output_type": "stream",
       "stream": "stdout",
       "text": [
        "<music21.note.Note C> 1.0\n",
        "<music21.note.Note D> 2.33333333333\n",
        "<music21.note.Note E> 1.0\n",
        "<music21.note.Note F> 1.66666666667\n"
       ]
      }
     ],
     "prompt_number": 17
    },
    {
     "cell_type": "markdown",
     "metadata": {},
     "source": [
      "Notice that by default 6/8 is assumed to be a \"fast\" 6/8, that is, having two beats and not six per measure.  That's because there's no easy way to specify the former.  We can see how many beats there are per measure by requesting the `.beatCount` of a `TimeSignature`:"
     ]
    },
    {
     "cell_type": "code",
     "collapsed": false,
     "input": [
      "tsThreeFour.beatCount"
     ],
     "language": "python",
     "metadata": {},
     "outputs": [
      {
       "output_type": "pyout",
       "prompt_number": 18,
       "text": [
        "2"
       ]
      }
     ],
     "prompt_number": 18
    },
    {
     "cell_type": "markdown",
     "metadata": {},
     "source": [
      "And we can change that and see how it affects the results:"
     ]
    },
    {
     "cell_type": "code",
     "collapsed": false,
     "input": [
      "tsThreeFour.beatCount = 6\n",
      "\n",
      "for n in stream1.notes:\n",
      "    print n, n.beat"
     ],
     "language": "python",
     "metadata": {},
     "outputs": [
      {
       "output_type": "stream",
       "stream": "stdout",
       "text": [
        "<music21.note.Note C> 1.0\n",
        "<music21.note.Note D> 5.0\n",
        "<music21.note.Note E> 1.0\n",
        "<music21.note.Note F> 3.0\n"
       ]
      }
     ],
     "prompt_number": 19
    },
    {
     "cell_type": "markdown",
     "metadata": {},
     "source": [
      "Using the terminology most musicians use, you can create TimeSignatures of 6/8 with either beat count directly:"
     ]
    },
    {
     "cell_type": "code",
     "collapsed": false,
     "input": [
      "tsFast68 = meter.TimeSignature('fast 6/8')\n",
      "tsSlow68 = meter.TimeSignature('slow 6/8')\n",
      "\n",
      "tsFast68.beatCount, tsSlow68.beatCount"
     ],
     "language": "python",
     "metadata": {},
     "outputs": [
      {
       "output_type": "pyout",
       "prompt_number": 20,
       "text": [
        "(2, 6)"
       ]
      }
     ],
     "prompt_number": 20
    },
    {
     "cell_type": "markdown",
     "metadata": {},
     "source": [
      "##Working with TimeSignatures in scores##"
     ]
    },
    {
     "cell_type": "markdown",
     "metadata": {},
     "source": [
      "We have been dealing with TimeSignature objects that are in a single Stream.  However, in general, :class:`~music21.meter.TimeSignature` objects are found within :class:`~music21.stream.Measure` objects inside a :class:`~music21.stream.Part` object.  Both `Measure` and `Part` are subclasses of `Stream`.  Let's get a Bach chorale with some nice eighth-note runs from the :ref:`moduleCorpus.base` module's :func:`~music21.corpus.base.parse` function.  It returns a :class:`~music21.stream.Score`, which is also a `Stream` subclass."
     ]
    },
    {
     "cell_type": "code",
     "collapsed": false,
     "input": [
      "myBach = corpus.parse('bach/bwv57.8')\n",
      "\n",
      "print myBach.__class__"
     ],
     "language": "python",
     "metadata": {},
     "outputs": [
      {
       "output_type": "stream",
       "stream": "stdout",
       "text": [
        "<class 'music21.stream.Score'>\n"
       ]
      }
     ],
     "prompt_number": 21
    },
    {
     "cell_type": "markdown",
     "metadata": {},
     "source": [
      "We will get the Alto part using the `Score` object's `.parts` list:"
     ]
    },
    {
     "cell_type": "code",
     "collapsed": false,
     "input": [
      "alto = myBach.parts['Alto']\n",
      "\n",
      "alto"
     ],
     "language": "python",
     "metadata": {},
     "outputs": [
      {
       "output_type": "pyout",
       "prompt_number": 22,
       "text": [
        "<music21.stream.Part Alto>"
       ]
      }
     ],
     "prompt_number": 22
    },
    {
     "cell_type": "markdown",
     "metadata": {},
     "source": [
      "When we call `.show()` on this Part (or on `myBach` itself), we can see that this is one of the few chorales that Bach wrote that is in 3/4:"
     ]
    },
    {
     "cell_type": "code",
     "collapsed": false,
     "input": [
      "alto.show()"
     ],
     "language": "python",
     "metadata": {},
     "outputs": [
      {
       "output_type": "pyout",
       "png": "[encoded data removed]",
       "prompt_number": 23,
       "text": [
        "<music21.ipython21.objects.IPythonPNGObject at 0x109cba590>"
       ]
      }
     ],
     "prompt_number": 23
    },
    {
     "cell_type": "markdown",
     "metadata": {},
     "source": [
      "We can get a list of all time `TimeSignature`s in this `Part` by first \"flattening\" the Part with `.flat` and then calling `.getElementsByClass('TimeSignature')` on it:"
     ]
    },
    {
     "cell_type": "code",
     "collapsed": false,
     "input": [
      "flatAlto = alto.flat\n",
      "allTimeSignatures = flatAlto.getElementsByClass('TimeSignature')\n",
      "len(allTimeSignatures)"
     ],
     "language": "python",
     "metadata": {},
     "outputs": [
      {
       "output_type": "pyout",
       "prompt_number": 24,
       "text": [
        "1"
       ]
      }
     ],
     "prompt_number": 24
    },
    {
     "cell_type": "markdown",
     "metadata": {},
     "source": [
      "We see that there is exactly one TimeSignature in the `Part`.  We can see it this way:"
     ]
    },
    {
     "cell_type": "code",
     "collapsed": false,
     "input": [
      "allTimeSignatures[0]"
     ],
     "language": "python",
     "metadata": {},
     "outputs": [
      {
       "output_type": "pyout",
       "prompt_number": 25,
       "text": [
        "<music21.meter.TimeSignature 3/4>"
       ]
      }
     ],
     "prompt_number": 25
    },
    {
     "cell_type": "markdown",
     "metadata": {},
     "source": [
      "We could also suppose that the TimeSignature would be in the first measure, so instead of `flattening` the score, we can do this:"
     ]
    },
    {
     "cell_type": "code",
     "collapsed": false,
     "input": [
      "alto.measure(1).timeSignature"
     ],
     "language": "python",
     "metadata": {},
     "outputs": [
      {
       "output_type": "pyout",
       "prompt_number": 26,
       "text": [
        "<music21.meter.TimeSignature 3/4>"
       ]
      }
     ],
     "prompt_number": 26
    },
    {
     "cell_type": "markdown",
     "metadata": {},
     "source": [
      "Other measures don't have TimeSignature objects:"
     ]
    },
    {
     "cell_type": "code",
     "collapsed": false,
     "input": [
      "alto.measure(7).timeSignature is None"
     ],
     "language": "python",
     "metadata": {},
     "outputs": [
      {
       "output_type": "pyout",
       "prompt_number": 27,
       "text": [
        "True"
       ]
      }
     ],
     "prompt_number": 27
    },
    {
     "cell_type": "markdown",
     "metadata": {},
     "source": [
      "Let's change that!"
     ]
    },
    {
     "cell_type": "code",
     "collapsed": false,
     "input": [
      "alto.measure(7).timeSignature = meter.TimeSignature('6/8')"
     ],
     "language": "python",
     "metadata": {},
     "outputs": [],
     "prompt_number": 28
    },
    {
     "cell_type": "markdown",
     "metadata": {},
     "source": [
      "Now we'll rebeam according to the new TimeSignatures:"
     ]
    },
    {
     "cell_type": "code",
     "collapsed": false,
     "input": [
      "alto.makeBeams(inPlace=True)"
     ],
     "language": "python",
     "metadata": {},
     "outputs": [],
     "prompt_number": 29
    },
    {
     "cell_type": "markdown",
     "metadata": {},
     "source": [
      "We'll clear all the stem directions so that we don't get really screwy beams, and then show the new score."
     ]
    },
    {
     "cell_type": "code",
     "collapsed": false,
     "input": [
      "for n in alto.flat.notes:\n",
      "    n.stemDirection = None\n",
      "\n",
      "alto.show()"
     ],
     "language": "python",
     "metadata": {},
     "outputs": [
      {
       "output_type": "pyout",
       "png": "[encoded data removed]",
       "prompt_number": 30,
       "text": [
        "<music21.ipython21.objects.IPythonPNGObject at 0x109cc3910>"
       ]
      }
     ],
     "prompt_number": 30
    },
    {
     "cell_type": "markdown",
     "metadata": {},
     "source": [
      "We've sort of cheated by changing the TimeSignature to something that kept all the measure lengths the same.  Let's rebar everything.  First we'll flatten the alto part and then get everything that is NOT a TimeSignature.  We will use `.getElementsNotOfClass()` and can either pass it the string \"TimeSignature\" as we did with \"getElementsByClass\" above, or for either method we can pass in a class object, which we'll do here:"
     ]
    },
    {
     "cell_type": "code",
     "collapsed": false,
     "input": [
      "newAlto = alto.flat.getElementsNotOfClass(meter.TimeSignature)\n",
      "newAlto.insert(0, meter.TimeSignature('2/4'))\n",
      "newAlto.show()"
     ],
     "language": "python",
     "metadata": {},
     "outputs": [
      {
       "output_type": "pyout",
       "png": "[encoded data removed]",
       "prompt_number": 31,
       "text": [
        "<music21.ipython21.objects.IPythonPNGObject at 0x109b13850>"
       ]
      }
     ],
     "prompt_number": 31
    },
    {
     "cell_type": "markdown",
     "metadata": {},
     "source": [
      "Whoops! Some of those measures, such as mm 2-3, are screwy.  Let's run the powerful command `.makeNotation()` first before showing:"
     ]
    },
    {
     "cell_type": "code",
     "collapsed": false,
     "input": [
      "newAltoFixed = newAlto.makeNotation()\n",
      "newAltoFixed.show()"
     ],
     "language": "python",
     "metadata": {},
     "outputs": [
      {
       "output_type": "pyout",
       "png": "[encoded data removed]",
       "prompt_number": 32,
       "text": [
        "<music21.ipython21.objects.IPythonPNGObject at 0x109d0be10>"
       ]
      }
     ],
     "prompt_number": 32
    },
    {
     "cell_type": "markdown",
     "metadata": {},
     "source": [
      "We can continue to add multiple TimeSignature objects to this Stream of Notes. First, we will replace the 2/4 bar previously added with a new TimeSignature, using the Stream :meth:`~music21.stream.Stream.replace` method. Then, we will insert a number of additional TimeSignature objects at offsets further into the Stream. Again, as this Stream has no Measures, temporary Measures are automatically created when calling the `show()`method."
     ]
    },
    {
     "cell_type": "code",
     "collapsed": false,
     "input": [
      "ts = newAlto.getTimeSignatures()[0]\n",
      "ts"
     ],
     "language": "python",
     "metadata": {},
     "outputs": [
      {
       "output_type": "pyout",
       "prompt_number": 33,
       "text": [
        "<music21.meter.TimeSignature 2/4>"
       ]
      }
     ],
     "prompt_number": 33
    },
    {
     "cell_type": "code",
     "collapsed": false,
     "input": [
      "newAlto.replace(ts, meter.TimeSignature('5/8'))\n",
      "newAlto.getTimeSignatures()[0]"
     ],
     "language": "python",
     "metadata": {},
     "outputs": [
      {
       "output_type": "pyout",
       "prompt_number": 34,
       "text": [
        "<music21.meter.TimeSignature 5/8>"
       ]
      }
     ],
     "prompt_number": 34
    },
    {
     "cell_type": "code",
     "collapsed": false,
     "input": [
      "newAlto.insert(10.0, meter.TimeSignature('7/8'))\n",
      "newAlto.insert(17.0, meter.TimeSignature('9/8'))\n",
      "newAlto.insert(26.0, meter.TimeSignature('3/8'))"
     ],
     "language": "python",
     "metadata": {},
     "outputs": [],
     "prompt_number": 35
    },
    {
     "cell_type": "markdown",
     "metadata": {},
     "source": [
      "Now we can `makeNotation()` again and show this wacky interpretation of Bach:"
     ]
    },
    {
     "cell_type": "code",
     "collapsed": false,
     "input": [
      "newAlto.makeNotation().show()"
     ],
     "language": "python",
     "metadata": {},
     "outputs": [
      {
       "output_type": "pyout",
       "png": "[encoded data removed]",
       "prompt_number": 36,
       "text": [
        "<music21.ipython21.objects.IPythonPNGObject at 0x109cc9d50>"
       ]
      }
     ],
     "prompt_number": 36
    },
    {
     "cell_type": "markdown",
     "metadata": {},
     "source": [
      "Let's see how that looks in all the parts by putting the time signatures in their \"proper\" place in every Part.  First, lets get all the TimeSignature objects in the score with ``.getElementsByClass('TimeSignature')`` or, even better, the shortcut, ``.getTimeSignatures()``.  This only works because we already flattened Alto to make newAlto"
     ]
    },
    {
     "cell_type": "code",
     "collapsed": false,
     "input": [
      "tsList = newAlto.getTimeSignatures()"
     ],
     "language": "python",
     "metadata": {},
     "outputs": [],
     "prompt_number": 37
    },
    {
     "cell_type": "markdown",
     "metadata": {},
     "source": [
      "tsList is a `Part` object so we can show it:"
     ]
    },
    {
     "cell_type": "code",
     "collapsed": false,
     "input": [
      "print tsList.__class__\n",
      "tsList.show('text')"
     ],
     "language": "python",
     "metadata": {},
     "outputs": [
      {
       "output_type": "stream",
       "stream": "stdout",
       "text": [
        "<class 'music21.stream.Part'>\n",
        "{0.0} <music21.meter.TimeSignature 5/8>\n",
        "{10.0} <music21.meter.TimeSignature 7/8>\n",
        "{17.0} <music21.meter.TimeSignature 9/8>\n",
        "{26.0} <music21.meter.TimeSignature 3/8>\n"
       ]
      }
     ],
     "prompt_number": 38
    },
    {
     "cell_type": "markdown",
     "metadata": {},
     "source": [
      "Now we'll create a new `Score` object and flatten all the parts from the original `myBach` and get everything but the `TimeSignature` objects, run `.makeNotation()` and put it in the new score:"
     ]
    },
    {
     "cell_type": "code",
     "collapsed": false,
     "input": [
      "newScore = stream.Score()\n",
      "\n",
      "for part in myBach.parts:\n",
      "    flatPart = part.flat\n",
      "    noTSPart = flatPart.getElementsNotOfClass('TimeSignature')\n",
      "    for ts in tsList:\n",
      "        noTSPart.insert(ts.offset, ts)\n",
      "    noTSPart.makeNotation(inPlace=True)\n",
      "    newScore.insert(0, noTSPart)\n",
      "\n",
      "newScore.measures(1, 10).show()"
     ],
     "language": "python",
     "metadata": {},
     "outputs": [
      {
       "output_type": "pyout",
       "png": "[encoded data removed]",
       "prompt_number": 39,
       "text": [
        "<music21.ipython21.objects.IPythonPNGObject at 0x109eb0cd0>"
       ]
      }
     ],
     "prompt_number": 39
    },
    {
     "cell_type": "markdown",
     "metadata": {},
     "source": [
      "##Working with Beats in a score##"
     ]
    },
    {
     "cell_type": "markdown",
     "metadata": {},
     "source": [
      "Let's see what we can do with beats in our same Bach score.  Let's use the `beatStr` for \"beat string\" tag to get a nicely formatted measure of the beat for each note in the Soprano part:"
     ]
    },
    {
     "cell_type": "code",
     "collapsed": false,
     "input": [
      "sopr = myBach.parts['Soprano'].measures(1,2)\n",
      "\n",
      "for n in sopr.flat.notes:\n",
      "    print n, n.beatStr"
     ],
     "language": "python",
     "metadata": {},
     "outputs": [
      {
       "output_type": "stream",
       "stream": "stdout",
       "text": [
        "<music21.note.Note B-> 1\n",
        "<music21.note.Note B-> 2\n",
        "<music21.note.Note F> 3\n",
        "<music21.note.Note D> 1\n",
        "<music21.note.Note C> 2 1/2\n",
        "<music21.note.Note B-> 3\n"
       ]
      }
     ],
     "prompt_number": 40
    },
    {
     "cell_type": "markdown",
     "metadata": {},
     "source": [
      "Instead of just printing that though, let's put the beatStr as a lyric on each note:"
     ]
    },
    {
     "cell_type": "code",
     "collapsed": false,
     "input": [
      "for n in sopr.flat.notes:\n",
      "    n.addLyric(n.beatStr)\n",
      "\n",
      "sopr.show()"
     ],
     "language": "python",
     "metadata": {},
     "outputs": [
      {
       "output_type": "pyout",
       "png": "[encoded data removed]",
       "prompt_number": 41,
       "text": [
        "<music21.ipython21.objects.IPythonPNGObject at 0x109ccc690>"
       ]
      }
     ],
     "prompt_number": 41
    },
    {
     "cell_type": "markdown",
     "metadata": {},
     "source": [
      "Each note also has a particular `beatStrength` that shows how metrically accented `music21` thinks it is, with 1.0 being most accented and 0 being least."
     ]
    },
    {
     "cell_type": "code",
     "collapsed": false,
     "input": [
      "for n in sopr.flat.notes:\n",
      "    print n, n.beatStrength"
     ],
     "language": "python",
     "metadata": {},
     "outputs": [
      {
       "output_type": "stream",
       "stream": "stdout",
       "text": [
        "<music21.note.Note B-> 1.0\n",
        "<music21.note.Note B-> 0.5\n",
        "<music21.note.Note F> 0.5\n",
        "<music21.note.Note D> 1.0\n",
        "<music21.note.Note C> 0.25\n",
        "<music21.note.Note B-> 0.5\n"
       ]
      }
     ],
     "prompt_number": 42
    },
    {
     "cell_type": "markdown",
     "metadata": {},
     "source": [
      "This chapter gives a solid introduction to the types of things you can do with TimeSignatures and beats.  We will return again to this topic later in the User's Guide to show how beaming, accentuation, and other elements can be controlled through meter and `TimeSignature` objects.  But time is not the only thing to have a signature.  The next chapter will guide you through working with `KeySignature` and `Key` objects."
     ]
    }
   ],
   "metadata": {}
  }
 ]
}